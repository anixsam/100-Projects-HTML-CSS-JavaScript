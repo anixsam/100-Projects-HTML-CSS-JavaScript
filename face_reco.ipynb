{
  "nbformat": 4,
  "nbformat_minor": 0,
  "metadata": {
    "colab": {
      "name": "face-reco.ipynb",
      "provenance": [],
      "mount_file_id": "1yghh86of4XdkaXkxUMquAXPJAZjDmz9q",
      "authorship_tag": "ABX9TyNPMBuR2tJXPZG/MBZuhtKu",
      "include_colab_link": true
    },
    "kernelspec": {
      "name": "python3",
      "display_name": "Python 3"
    },
    "language_info": {
      "name": "python"
    },
    "accelerator": "GPU"
  },
  "cells": [
    {
      "cell_type": "markdown",
      "metadata": {
        "id": "view-in-github",
        "colab_type": "text"
      },
      "source": [
        "<a href=\"https://colab.research.google.com/github/anixsam/100-Projects-HTML-CSS-JavaScript/blob/master/face_reco.ipynb\" target=\"_parent\"><img src=\"https://colab.research.google.com/assets/colab-badge.svg\" alt=\"Open In Colab\"/></a>"
      ]
    },
    {
      "cell_type": "code",
      "execution_count": 20,
      "metadata": {
        "colab": {
          "base_uri": "https://localhost:8080/"
        },
        "id": "b-_qqeyxW6Do",
        "outputId": "c80f460c-14e9-469b-975f-607b6b4a7fd4"
      },
      "outputs": [
        {
          "output_type": "stream",
          "name": "stdout",
          "text": [
            "Drive already mounted at /content/drive; to attempt to forcibly remount, call drive.mount(\"/content/drive\", force_remount=True).\n"
          ]
        }
      ],
      "source": [
        "from google.colab import drive\n",
        "drive.mount('/content/drive')\n"
      ]
    },
    {
      "cell_type": "code",
      "source": [
        "!ls /content/drive/MyDrive/face-reco/darknet"
      ],
      "metadata": {
        "id": "B1xx4BRTXYXZ"
      },
      "execution_count": 29,
      "outputs": []
    },
    {
      "cell_type": "code",
      "source": [
        "!git clone \"https://github.com/AlexeyAB/darknet.git\" \"/content/drive/MyDrive/face-reco/darknet\""
      ],
      "metadata": {
        "colab": {
          "base_uri": "https://localhost:8080/"
        },
        "id": "RWAZge1cXvY1",
        "outputId": "f58f8057-3e97-4f9d-de9d-6f23555e3dc3"
      },
      "execution_count": 30,
      "outputs": [
        {
          "output_type": "stream",
          "name": "stdout",
          "text": [
            "Cloning into '/content/drive/MyDrive/face-reco/darknet'...\n",
            "remote: Enumerating objects: 15395, done.\u001b[K\n",
            "remote: Total 15395 (delta 0), reused 0 (delta 0), pack-reused 15395\u001b[K\n",
            "Receiving objects: 100% (15395/15395), 14.04 MiB | 6.01 MiB/s, done.\n",
            "Resolving deltas: 100% (10344/10344), done.\n",
            "Checking out files: 100% (2050/2050), done.\n"
          ]
        }
      ]
    },
    {
      "cell_type": "code",
      "source": [
        "%cd /content/drive/MyDrive/face-reco/darknet"
      ],
      "metadata": {
        "id": "pG78WxLjID43",
        "colab": {
          "base_uri": "https://localhost:8080/"
        },
        "outputId": "04cd5afb-d776-421c-a8e4-63437c60f767"
      },
      "execution_count": 34,
      "outputs": [
        {
          "output_type": "stream",
          "name": "stdout",
          "text": [
            "/content/drive/MyDrive/face-reco/darknet\n"
          ]
        }
      ]
    },
    {
      "cell_type": "code",
      "source": [
        "!ls"
      ],
      "metadata": {
        "colab": {
          "base_uri": "https://localhost:8080/"
        },
        "id": "ycw8683gYRi7",
        "outputId": "fe5bfed4-b0e4-4891-b11d-5dd3c9a467c6"
      },
      "execution_count": 32,
      "outputs": [
        {
          "output_type": "stream",
          "name": "stdout",
          "text": [
            "3rdparty\t\tdarknet_video.py       net_cam_v4.sh\n",
            "build\t\t\tdata\t\t       README.md\n",
            "build.ps1\t\timage_yolov3.sh        results\n",
            "cfg\t\t\timage_yolov4.sh        scripts\n",
            "cmake\t\t\tinclude\t\t       src\n",
            "CMakeLists.txt\t\tjson_mjpeg_streams.sh  vcpkg.json\n",
            "DarknetConfig.cmake.in\tLICENSE\t\t       video_yolov3.sh\n",
            "darknet_images.py\tMakefile\t       video_yolov4.sh\n",
            "darknet.py\t\tnet_cam_v3.sh\n"
          ]
        }
      ]
    },
    {
      "cell_type": "code",
      "source": [
        "!make"
      ],
      "metadata": {
        "colab": {
          "base_uri": "https://localhost:8080/"
        },
        "id": "2NdRQxrRZg3D",
        "outputId": "5b92cb0f-97b3-4aa5-cfe0-de5afa8dcd70"
      },
      "execution_count": 41,
      "outputs": [
        {
          "output_type": "stream",
          "name": "stdout",
          "text": [
            "make: *** No targets specified and no makefile found.  Stop.\n"
          ]
        }
      ]
    },
    {
      "cell_type": "code",
      "source": [
        "%cd /content/drive/MyDrive/face-reco"
      ],
      "metadata": {
        "colab": {
          "base_uri": "https://localhost:8080/"
        },
        "id": "5JaxWYHAbpzO",
        "outputId": "33287ba2-13af-41ab-cfc2-0e31a32d48a5"
      },
      "execution_count": 36,
      "outputs": [
        {
          "output_type": "stream",
          "name": "stdout",
          "text": [
            "/content/drive/MyDrive/face-reco\n"
          ]
        }
      ]
    },
    {
      "cell_type": "code",
      "source": [
        "!python custom_data/creating-files-data-and-name.py"
      ],
      "metadata": {
        "id": "ZK2QGD80f70n"
      },
      "execution_count": 37,
      "outputs": []
    },
    {
      "cell_type": "code",
      "source": [
        "!python custom_data/creating-train-and-test-txt-files.py"
      ],
      "metadata": {
        "id": "oRam54z-gLSP"
      },
      "execution_count": 38,
      "outputs": []
    },
    {
      "cell_type": "code",
      "source": [
        "!ls"
      ],
      "metadata": {
        "colab": {
          "base_uri": "https://localhost:8080/"
        },
        "id": "oUf-ycZIgW2W",
        "outputId": "05eb98ff-e960-4fe7-c2b0-201b7b4b134f"
      },
      "execution_count": 39,
      "outputs": [
        {
          "output_type": "stream",
          "name": "stdout",
          "text": [
            "backup\t   chart_yolov3_custom.png  custom_weight  dataset\n",
            "chart.png  custom_data\t\t    darknet\n"
          ]
        }
      ]
    },
    {
      "cell_type": "code",
      "source": [
        "!darknet/darknet detector train custom_data/labelled_data.data darknet/cfg/yolov3_custom.cfg custom_weight/darknet53.conv.74 -dont_show"
      ],
      "metadata": {
        "colab": {
          "base_uri": "https://localhost:8080/"
        },
        "id": "RPCe3Fj5ssX-",
        "outputId": "aa0aecef-9284-4630-e9cd-0a5793977eac"
      },
      "execution_count": 40,
      "outputs": [
        {
          "output_type": "stream",
          "name": "stdout",
          "text": [
            " GPU isn't used \n",
            " OpenCV isn't used - data augmentation will be slow \n",
            "yolov3_custom\n",
            "Couldn't open file: darknet/cfg/yolov3_custom.cfg\n"
          ]
        }
      ]
    },
    {
      "cell_type": "code",
      "source": [
        ""
      ],
      "metadata": {
        "id": "WEPA3DgXtX6K"
      },
      "execution_count": null,
      "outputs": []
    }
  ]
}